{
  "nbformat": 4,
  "nbformat_minor": 0,
  "metadata": {
    "kernelspec": {
      "display_name": "Python 3",
      "language": "python",
      "name": "python3"
    },
    "language_info": {
      "codemirror_mode": {
        "name": "ipython",
        "version": 3
      },
      "file_extension": ".py",
      "mimetype": "text/x-python",
      "name": "python",
      "nbconvert_exporter": "python",
      "pygments_lexer": "ipython3",
      "version": "3.6.5"
    },
    "colab": {
      "name": "Module 3 - Regression - Beta Calculation.ipynb",
      "provenance": [],
      "collapsed_sections": [],
      "toc_visible": true
    }
  },
  "cells": [
    {
      "cell_type": "markdown",
      "metadata": {
        "id": "NBt9T7jz3nbB",
        "colab_type": "text"
      },
      "source": [
        "\n",
        "\n",
        "\n",
        "\n",
        "# Module 3- Regression & Beta Calculation\n",
        "\n"
      ]
    },
    {
      "cell_type": "markdown",
      "metadata": {
        "id": "Tivq7BbZ3nbC",
        "colab_type": "text"
      },
      "source": [
        "   ### Welcome to the Answer notebook for Module 3 ! \n",
        "Make sure that you've submitted the module 2 notebook and unlocked Module 3 yourself before you start coding here\n"
      ]
    },
    {
      "cell_type": "markdown",
      "metadata": {
        "id": "Npqo_weZ3nbC",
        "colab_type": "text"
      },
      "source": [
        "#--------------------------------------------------------------------------------------------------------------------------------------------------------------------------------------------------------#"
      ]
    },
    {
      "cell_type": "markdown",
      "metadata": {
        "id": "pZOS_gLI3nbD",
        "colab_type": "text"
      },
      "source": [
        "### Query 3.1 \n",
        "Import the file 'gold.csv', which is contains the data about last 2 years price action of Indian(MCX) gold standard. Explore the dataframe. You'd see 2 unique columns - 'Pred' and 'new'.\n",
        "\n",
        "One of the 2 columns is a linear combination of the OHLC prices with varying coefficients while the other is a polynomial fucntion of the same inputs. Also, one of the 2 columns is partially filled.\n",
        "\n",
        ">Using linear regression, find the coefficients of the inputs and using the same trained model, complete the\n",
        "      entire column.\n",
        "      \n",
        ">Also, try to fit the other column as well using a new linear regression model. Check if the predicitons are \n",
        "      accurate.\n",
        "      Mention which column is a linear function and which is a polynomial function.\n",
        "      (Hint: Plotting a histogram & distplot helps in recognizing the  discrepencies in prediction, if any.)"
      ]
    },
    {
      "cell_type": "code",
      "metadata": {
        "id": "0cIjEbYh3nbD",
        "colab_type": "code",
        "colab": {
          "base_uri": "https://localhost:8080/",
          "height": 72
        },
        "outputId": "fad0545c-f743-4d73-a42c-87a0ce7bf748"
      },
      "source": [
        "import pandas as pd\n",
        "import numpy as np\n",
        "import matplotlib.pyplot as plt\n",
        "import seaborn as sns\n",
        "% matplotlib inline "
      ],
      "execution_count": null,
      "outputs": [
        {
          "output_type": "stream",
          "text": [
            "/usr/local/lib/python3.6/dist-packages/statsmodels/tools/_testing.py:19: FutureWarning: pandas.util.testing is deprecated. Use the functions in the public API at pandas.testing instead.\n",
            "  import pandas.util.testing as tm\n"
          ],
          "name": "stderr"
        }
      ]
    },
    {
      "cell_type": "code",
      "metadata": {
        "id": "e39K_t6c3nbG",
        "colab_type": "code",
        "colab": {
          "base_uri": "https://localhost:8080/",
          "height": 230
        },
        "outputId": "124d24fc-725b-4d2d-c7d6-96439c522d8a"
      },
      "source": [
        "df_gold = pd.read_csv('GOLD.csv')\n",
        "print(df_gold.head(5))\n",
        "\n",
        "print( df_gold.tail(5))"
      ],
      "execution_count": null,
      "outputs": [
        {
          "output_type": "stream",
          "text": [
            "           Date  Price   Open   High    Low    Vol. Change %   Pred         new\n",
            "0  May 04, 2017  28060  28400  28482  28025   0.08K   -1.79%  738.0  117.570740\n",
            "1  May 05, 2017  28184  28136  28382  28135   0.06K    0.44% -146.0  295.430176\n",
            "2  May 08, 2017  28119  28145  28255  28097   7.85K   -0.23%   30.0  132.123714\n",
            "3  May 09, 2017  27981  28125  28192  27947  10.10K   -0.49%  357.0  101.298064\n",
            "4  May 10, 2017  28007  28060  28146  27981   9.28K    0.09%  124.0  112.153318\n",
            "             Date  Price   Open   High    Low   Vol. Change %  Pred         new\n",
            "507  Apr 26, 2019  31868  31851  31934  31705  9.67K    0.08%   NaN  247.177322\n",
            "508  Apr 30, 2019  31625  31800  31824  31597  6.44K   -0.76%   NaN   52.201158\n",
            "509  May 01, 2019  31563  31604  31657  31503  1.55K   -0.20%   NaN  113.293305\n",
            "510  May 02, 2019  31203  31420  31425  31160  0.48K   -1.14%   NaN   48.365693\n",
            "511  May 03, 2019  31341  31250  31500  31163  0.08K    0.44%   NaN  429.924911\n"
          ],
          "name": "stdout"
        }
      ]
    },
    {
      "cell_type": "code",
      "metadata": {
        "id": "ujgBWuWosaEZ",
        "colab_type": "code",
        "colab": {
          "base_uri": "https://localhost:8080/",
          "height": 195
        },
        "outputId": "ab0c348c-b092-4dad-e383-68f94eb3fd4f"
      },
      "source": [
        "# to check for null values \n",
        "df_gold.isna().sum()"
      ],
      "execution_count": null,
      "outputs": [
        {
          "output_type": "execute_result",
          "data": {
            "text/plain": [
              "Date          0\n",
              "Price         0\n",
              "Open          0\n",
              "High          0\n",
              "Low           0\n",
              "Vol.          0\n",
              "Change %      0\n",
              "Pred        101\n",
              "new           0\n",
              "dtype: int64"
            ]
          },
          "metadata": {
            "tags": []
          },
          "execution_count": 6
        }
      ]
    },
    {
      "cell_type": "code",
      "metadata": {
        "id": "06zVrB-v3nbH",
        "colab_type": "code",
        "colab": {
          "base_uri": "https://localhost:8080/",
          "height": 223
        },
        "outputId": "7c64adc6-1329-4094-cedc-bcae6ef98ba3"
      },
      "source": [
        "df_gold['Date'] = pd.to_datetime(df_gold['Date'])\n",
        "df_gold.set_index('Date', inplace = True)\n",
        "df_gold.head(5)\n"
      ],
      "execution_count": null,
      "outputs": [
        {
          "output_type": "execute_result",
          "data": {
            "text/html": [
              "<div>\n",
              "<style scoped>\n",
              "    .dataframe tbody tr th:only-of-type {\n",
              "        vertical-align: middle;\n",
              "    }\n",
              "\n",
              "    .dataframe tbody tr th {\n",
              "        vertical-align: top;\n",
              "    }\n",
              "\n",
              "    .dataframe thead th {\n",
              "        text-align: right;\n",
              "    }\n",
              "</style>\n",
              "<table border=\"1\" class=\"dataframe\">\n",
              "  <thead>\n",
              "    <tr style=\"text-align: right;\">\n",
              "      <th></th>\n",
              "      <th>Price</th>\n",
              "      <th>Open</th>\n",
              "      <th>High</th>\n",
              "      <th>Low</th>\n",
              "      <th>Vol.</th>\n",
              "      <th>Change %</th>\n",
              "      <th>Pred</th>\n",
              "      <th>new</th>\n",
              "    </tr>\n",
              "    <tr>\n",
              "      <th>Date</th>\n",
              "      <th></th>\n",
              "      <th></th>\n",
              "      <th></th>\n",
              "      <th></th>\n",
              "      <th></th>\n",
              "      <th></th>\n",
              "      <th></th>\n",
              "      <th></th>\n",
              "    </tr>\n",
              "  </thead>\n",
              "  <tbody>\n",
              "    <tr>\n",
              "      <th>2017-05-04</th>\n",
              "      <td>28060</td>\n",
              "      <td>28400</td>\n",
              "      <td>28482</td>\n",
              "      <td>28025</td>\n",
              "      <td>0.08K</td>\n",
              "      <td>-1.79%</td>\n",
              "      <td>738.0</td>\n",
              "      <td>117.570740</td>\n",
              "    </tr>\n",
              "    <tr>\n",
              "      <th>2017-05-05</th>\n",
              "      <td>28184</td>\n",
              "      <td>28136</td>\n",
              "      <td>28382</td>\n",
              "      <td>28135</td>\n",
              "      <td>0.06K</td>\n",
              "      <td>0.44%</td>\n",
              "      <td>-146.0</td>\n",
              "      <td>295.430176</td>\n",
              "    </tr>\n",
              "    <tr>\n",
              "      <th>2017-05-08</th>\n",
              "      <td>28119</td>\n",
              "      <td>28145</td>\n",
              "      <td>28255</td>\n",
              "      <td>28097</td>\n",
              "      <td>7.85K</td>\n",
              "      <td>-0.23%</td>\n",
              "      <td>30.0</td>\n",
              "      <td>132.123714</td>\n",
              "    </tr>\n",
              "    <tr>\n",
              "      <th>2017-05-09</th>\n",
              "      <td>27981</td>\n",
              "      <td>28125</td>\n",
              "      <td>28192</td>\n",
              "      <td>27947</td>\n",
              "      <td>10.10K</td>\n",
              "      <td>-0.49%</td>\n",
              "      <td>357.0</td>\n",
              "      <td>101.298064</td>\n",
              "    </tr>\n",
              "    <tr>\n",
              "      <th>2017-05-10</th>\n",
              "      <td>28007</td>\n",
              "      <td>28060</td>\n",
              "      <td>28146</td>\n",
              "      <td>27981</td>\n",
              "      <td>9.28K</td>\n",
              "      <td>0.09%</td>\n",
              "      <td>124.0</td>\n",
              "      <td>112.153318</td>\n",
              "    </tr>\n",
              "  </tbody>\n",
              "</table>\n",
              "</div>"
            ],
            "text/plain": [
              "            Price   Open   High    Low    Vol. Change %   Pred         new\n",
              "Date                                                                      \n",
              "2017-05-04  28060  28400  28482  28025   0.08K   -1.79%  738.0  117.570740\n",
              "2017-05-05  28184  28136  28382  28135   0.06K    0.44% -146.0  295.430176\n",
              "2017-05-08  28119  28145  28255  28097   7.85K   -0.23%   30.0  132.123714\n",
              "2017-05-09  27981  28125  28192  27947  10.10K   -0.49%  357.0  101.298064\n",
              "2017-05-10  28007  28060  28146  27981   9.28K    0.09%  124.0  112.153318"
            ]
          },
          "metadata": {
            "tags": []
          },
          "execution_count": 7
        }
      ]
    },
    {
      "cell_type": "code",
      "metadata": {
        "id": "Q2VoAYz7wSXo",
        "colab_type": "code",
        "colab": {
          "base_uri": "https://localhost:8080/",
          "height": 35
        },
        "outputId": "30a4e68d-2bf6-4fd6-801a-523b62d1ef0c"
      },
      "source": [
        "# checking where is empty\n",
        "empties = np.where(pd.isnull(df_gold))\n",
        "print('(starting row, col) = (', empties[0][0],',', empties[1][0], ')')"
      ],
      "execution_count": null,
      "outputs": [
        {
          "output_type": "stream",
          "text": [
            "(starting row, col) = ( 411 , 6 )\n"
          ],
          "name": "stdout"
        }
      ]
    },
    {
      "cell_type": "code",
      "metadata": {
        "id": "uxKIln1Z3nbJ",
        "colab_type": "code",
        "colab": {}
      },
      "source": [
        "df_train = df_gold.dropna()\n",
        "df_test = df_gold.iloc[411: , :]"
      ],
      "execution_count": null,
      "outputs": []
    },
    {
      "cell_type": "markdown",
      "metadata": {
        "id": "jMwFmCoi7v4F",
        "colab_type": "text"
      },
      "source": [
        "**Linear Regression**"
      ]
    },
    {
      "cell_type": "code",
      "metadata": {
        "id": "IllidbRE3nbL",
        "colab_type": "code",
        "colab": {}
      },
      "source": [
        "# Importing required dependencies \n",
        "import sklearn\n",
        "from sklearn.linear_model import LinearRegression\n",
        "from sklearn.metrics import mean_squared_error, r2_score, accuracy_score"
      ],
      "execution_count": null,
      "outputs": []
    },
    {
      "cell_type": "markdown",
      "metadata": {
        "id": "R_CPZhkqww2y",
        "colab_type": "text"
      },
      "source": [
        "##### Part 1 : For Pred"
      ]
    },
    {
      "cell_type": "code",
      "metadata": {
        "id": "QtbktE9t3nbN",
        "colab_type": "code",
        "colab": {
          "base_uri": "https://localhost:8080/",
          "height": 70
        },
        "outputId": "326b83de-eca9-4053-a8e0-fefb22408b8f"
      },
      "source": [
        "# creatind dataset \n",
        "X = df_train[['Open', 'High', 'Low']].values\n",
        "y_pred = df_train.Pred.values\n",
        "y_new = df_train.new.values\n",
        "\n",
        "# model initialization and fitting  \n",
        "model1 = LinearRegression()\n",
        "model1.fit(X, y_pred)\n",
        "print(\"pred's score : \", model1.score(X, y_pred))\n",
        "print(\"pred's coeff, : \", model1.coef_, '\\nbias :', model1.intercept_)\n",
        "\n",
        "# Prediction for training data\n",
        "X_test = df_test[['Open', 'High', 'Low']].values\n",
        "y_pred_test = model1.predict(X_test)\n",
        "new_pred = np.hstack((y_pred, y_pred_test))"
      ],
      "execution_count": null,
      "outputs": [
        {
          "output_type": "stream",
          "text": [
            "pred's score :  0.7962059289157766\n",
            "pred's coeff, :  [ 1.87728492  0.55565405 -2.43980328] \n",
            "bias : 203.52838576001255\n"
          ],
          "name": "stdout"
        }
      ]
    },
    {
      "cell_type": "code",
      "metadata": {
        "id": "-PznlZi91IIV",
        "colab_type": "code",
        "colab": {}
      },
      "source": [
        "df_gold['Pred'] = new_pred"
      ],
      "execution_count": null,
      "outputs": []
    },
    {
      "cell_type": "markdown",
      "metadata": {
        "id": "9SZp92YdzTZV",
        "colab_type": "text"
      },
      "source": [
        "##### Part 2 : For new"
      ]
    },
    {
      "cell_type": "code",
      "metadata": {
        "id": "5wPtI1X03nbP",
        "colab_type": "code",
        "colab": {
          "base_uri": "https://localhost:8080/",
          "height": 70
        },
        "outputId": "0164f62a-5efe-42de-f5f0-ca5c231f28dd"
      },
      "source": [
        "# creatind dataset \n",
        "X = df_train[['Open', 'High', 'Low']].values\n",
        "y_pred = df_train.Pred.values\n",
        "y_new = df_train.new.values\n",
        "\n",
        "# model initialization and fitting  \n",
        "model2 = LinearRegression()\n",
        "model2.fit(X, y_new)\n",
        "print(\"new's score : \", model2.score(X, y_new))\n",
        "print(\"new's coeff, : \", model2.coef_, '\\nbias :', model2.intercept_)"
      ],
      "execution_count": null,
      "outputs": [
        {
          "output_type": "stream",
          "text": [
            "new's score :  0.9052828458304787\n",
            "new's coeff, :  [-1.56905117  1.7921037  -0.22656291] \n",
            "bias : 102.771887260319\n"
          ],
          "name": "stdout"
        }
      ]
    },
    {
      "cell_type": "markdown",
      "metadata": {
        "id": "LvHRn3Cqz2Oq",
        "colab_type": "text"
      },
      "source": [
        "###### Plot"
      ]
    },
    {
      "cell_type": "code",
      "metadata": {
        "id": "7iybCkuX89J3",
        "colab_type": "code",
        "colab": {
          "base_uri": "https://localhost:8080/",
          "height": 592
        },
        "outputId": "75de12ae-8f5b-4153-f9f5-568f21961f8d"
      },
      "source": [
        "plt.figure(figsize = (20, 10))\n",
        "ax = sns.kdeplot(y_pred_test, label = 'Predicted Entries', shade = True, color = 'r')\n",
        "ax = sns.kdeplot(y_pred, label = 'Pred Entries', shade = True, color = 'blue')"
      ],
      "execution_count": null,
      "outputs": [
        {
          "output_type": "display_data",
          "data": {
            "image/png": "[encoded data removed]",
            "text/plain": [
              "<Figure size 1440x720 with 1 Axes>"
            ]
          },
          "metadata": {
            "tags": [],
            "needs_background": "light"
          }
        }
      ]
    },
    {
      "cell_type": "markdown",
      "metadata": {
        "id": "hclR_gGl1oqP",
        "colab_type": "text"
      },
      "source": [
        "**Polynomia Regression**"
      ]
    },
    {
      "cell_type": "code",
      "metadata": {
        "id": "JaqJg2VApcB5",
        "colab_type": "code",
        "colab": {}
      },
      "source": [
        "from sklearn.preprocessing import PolynomialFeatures\n",
        "from sklearn.pipeline import Pipeline"
      ],
      "execution_count": null,
      "outputs": []
    },
    {
      "cell_type": "code",
      "metadata": {
        "id": "D5AVXQXO101c",
        "colab_type": "code",
        "colab": {
          "base_uri": "https://localhost:8080/",
          "height": 177
        },
        "outputId": "ae19c135-7046-49c6-cf8d-31f328ac58bc"
      },
      "source": [
        "model = Pipeline([('poly', PolynomialFeatures(degree = 2)), \n",
        "                  ('linear', LinearRegression())])\n",
        "\n",
        "model11 = model.fit(X, y_pred)\n",
        "print(\"Pred's score : \", model.score(X, y_pred))\n",
        "print(\"Pred's coeff. : \", model.named_steps['linear'].coef_)\n",
        "print('')\n",
        "\n",
        "model12 = model.fit(X, y_new) \n",
        "print(\"new's score : \", model.score(X, y_new))\n",
        "print(\"new's coeff. : \", model.named_steps['linear'].coef_)"
      ],
      "execution_count": null,
      "outputs": [
        {
          "output_type": "stream",
          "text": [
            "Pred's score :  0.8159060375045437\n",
            "Pred's coeff. :  [ 0.00000000e+00  8.31012462e-01  4.41739689e+00 -4.79572276e+00\n",
            "  7.22421621e-04 -2.88457330e-03  1.50145869e-03  1.87985683e-03\n",
            " -1.03173471e-03 -1.94673740e-04]\n",
            "\n",
            "new's score :  0.9147522370858019\n",
            "new's coeff. :  [ 0.00000000e+00 -2.09388978e+00  3.74002532e+00 -1.41689019e+00\n",
            "  3.62468554e-04 -1.47862677e-03  7.85041523e-04  9.75820068e-04\n",
            " -5.52469295e-04 -9.59030628e-05]\n"
          ],
          "name": "stdout"
        }
      ]
    },
    {
      "cell_type": "markdown",
      "metadata": {
        "id": "0-TphtH-7L0R",
        "colab_type": "text"
      },
      "source": [
        "Conclusion : Since, the new column is giving the score for SLR higher than the pred's column score, hence according to me new is linear function of OHL column. Also the Pred is polynomial function of OHL columns because it gives more positive change in score than the SLR while comparing the new column."
      ]
    },
    {
      "cell_type": "markdown",
      "metadata": {
        "id": "EEZNPuRQ9tdM",
        "colab_type": "text"
      },
      "source": [
        "### Query 3.2 \n",
        "Import the stock of your choosing AND the Nifty index. \n",
        "Using linear regression (OLS), calculate -\n",
        "The daily Beta value for the past 3 months. (Daily= Daily returns)\n",
        "The monthly Beta value. (Monthly= Monthly returns)\n",
        "Refrain from using the (covariance(x,y)/variance(x)) formula. \n",
        "Attempt the question using regression.(Regression Reference) \n",
        "Were the Beta values more or less than 1 ? What if it was negative ? \n",
        "Discuss. Include a brief writeup in the bottom of your jupyter notebook with your inferences from the Beta values and regression results"
      ]
    },
    {
      "cell_type": "code",
      "metadata": {
        "id": "-x5fMYut7A72",
        "colab_type": "code",
        "colab": {
          "base_uri": "https://localhost:8080/",
          "height": 614
        },
        "outputId": "3c0651c1-a8d9-4246-b42f-b977e5345538"
      },
      "source": [
        "# selecting MINDTREE data as stock\n",
        "df = pd.read_csv('MINDTREE.csv')\n",
        "df = df[df.Series == 'EQ']\n",
        "df['Date'] = pd.to_datetime(df['Date'])\n",
        "df.set_index('Date', inplace = True)\n",
        "\n",
        "# selecting nifty as index\n",
        "df_nifty = pd.read_csv('Nifty50.csv')\n",
        "df_nifty['Date'] = pd.to_datetime(df_nifty['Date'])\n",
        "df_nifty.set_index('Date', inplace = True)\n",
        "df"
      ],
      "execution_count": null,
      "outputs": [
        {
          "output_type": "execute_result",
          "data": {
            "text/html": [
              "<div>\n",
              "<style scoped>\n",
              "    .dataframe tbody tr th:only-of-type {\n",
              "        vertical-align: middle;\n",
              "    }\n",
              "\n",
              "    .dataframe tbody tr th {\n",
              "        vertical-align: top;\n",
              "    }\n",
              "\n",
              "    .dataframe thead th {\n",
              "        text-align: right;\n",
              "    }\n",
              "</style>\n",
              "<table border=\"1\" class=\"dataframe\">\n",
              "  <thead>\n",
              "    <tr style=\"text-align: right;\">\n",
              "      <th></th>\n",
              "      <th>Symbol</th>\n",
              "      <th>Series</th>\n",
              "      <th>Prev Close</th>\n",
              "      <th>Open Price</th>\n",
              "      <th>High Price</th>\n",
              "      <th>Low Price</th>\n",
              "      <th>Last Price</th>\n",
              "      <th>Close Price</th>\n",
              "      <th>Average Price</th>\n",
              "      <th>Total Traded Quantity</th>\n",
              "      <th>Turnover</th>\n",
              "      <th>No. of Trades</th>\n",
              "      <th>Deliverable Qty</th>\n",
              "      <th>% Dly Qt to Traded Qty</th>\n",
              "    </tr>\n",
              "    <tr>\n",
              "      <th>Date</th>\n",
              "      <th></th>\n",
              "      <th></th>\n",
              "      <th></th>\n",
              "      <th></th>\n",
              "      <th></th>\n",
              "      <th></th>\n",
              "      <th></th>\n",
              "      <th></th>\n",
              "      <th></th>\n",
              "      <th></th>\n",
              "      <th></th>\n",
              "      <th></th>\n",
              "      <th></th>\n",
              "      <th></th>\n",
              "    </tr>\n",
              "  </thead>\n",
              "  <tbody>\n",
              "    <tr>\n",
              "      <th>2017-05-15</th>\n",
              "      <td>MINDTREE</td>\n",
              "      <td>EQ</td>\n",
              "      <td>510.60</td>\n",
              "      <td>507.35</td>\n",
              "      <td>515.00</td>\n",
              "      <td>505.90</td>\n",
              "      <td>510.50</td>\n",
              "      <td>509.45</td>\n",
              "      <td>510.39</td>\n",
              "      <td>271952</td>\n",
              "      <td>1.388005e+08</td>\n",
              "      <td>8261</td>\n",
              "      <td>100362</td>\n",
              "      <td>36.90</td>\n",
              "    </tr>\n",
              "    <tr>\n",
              "      <th>2017-05-16</th>\n",
              "      <td>MINDTREE</td>\n",
              "      <td>EQ</td>\n",
              "      <td>509.45</td>\n",
              "      <td>507.00</td>\n",
              "      <td>515.85</td>\n",
              "      <td>506.00</td>\n",
              "      <td>511.00</td>\n",
              "      <td>511.30</td>\n",
              "      <td>512.69</td>\n",
              "      <td>207011</td>\n",
              "      <td>1.061317e+08</td>\n",
              "      <td>5550</td>\n",
              "      <td>82090</td>\n",
              "      <td>39.65</td>\n",
              "    </tr>\n",
              "    <tr>\n",
              "      <th>2017-05-17</th>\n",
              "      <td>MINDTREE</td>\n",
              "      <td>EQ</td>\n",
              "      <td>511.30</td>\n",
              "      <td>507.05</td>\n",
              "      <td>519.70</td>\n",
              "      <td>502.75</td>\n",
              "      <td>504.00</td>\n",
              "      <td>506.35</td>\n",
              "      <td>512.10</td>\n",
              "      <td>391401</td>\n",
              "      <td>2.004375e+08</td>\n",
              "      <td>13341</td>\n",
              "      <td>150098</td>\n",
              "      <td>38.35</td>\n",
              "    </tr>\n",
              "    <tr>\n",
              "      <th>2017-05-18</th>\n",
              "      <td>MINDTREE</td>\n",
              "      <td>EQ</td>\n",
              "      <td>506.35</td>\n",
              "      <td>502.00</td>\n",
              "      <td>516.75</td>\n",
              "      <td>486.00</td>\n",
              "      <td>487.50</td>\n",
              "      <td>492.90</td>\n",
              "      <td>505.60</td>\n",
              "      <td>852336</td>\n",
              "      <td>4.309377e+08</td>\n",
              "      <td>18513</td>\n",
              "      <td>170919</td>\n",
              "      <td>20.05</td>\n",
              "    </tr>\n",
              "    <tr>\n",
              "      <th>2017-05-19</th>\n",
              "      <td>MINDTREE</td>\n",
              "      <td>EQ</td>\n",
              "      <td>492.90</td>\n",
              "      <td>491.95</td>\n",
              "      <td>502.95</td>\n",
              "      <td>489.50</td>\n",
              "      <td>495.15</td>\n",
              "      <td>497.50</td>\n",
              "      <td>496.43</td>\n",
              "      <td>352273</td>\n",
              "      <td>1.748782e+08</td>\n",
              "      <td>8326</td>\n",
              "      <td>57853</td>\n",
              "      <td>16.42</td>\n",
              "    </tr>\n",
              "    <tr>\n",
              "      <th>...</th>\n",
              "      <td>...</td>\n",
              "      <td>...</td>\n",
              "      <td>...</td>\n",
              "      <td>...</td>\n",
              "      <td>...</td>\n",
              "      <td>...</td>\n",
              "      <td>...</td>\n",
              "      <td>...</td>\n",
              "      <td>...</td>\n",
              "      <td>...</td>\n",
              "      <td>...</td>\n",
              "      <td>...</td>\n",
              "      <td>...</td>\n",
              "      <td>...</td>\n",
              "    </tr>\n",
              "    <tr>\n",
              "      <th>2019-05-07</th>\n",
              "      <td>MINDTREE</td>\n",
              "      <td>EQ</td>\n",
              "      <td>981.75</td>\n",
              "      <td>982.80</td>\n",
              "      <td>985.00</td>\n",
              "      <td>975.00</td>\n",
              "      <td>981.00</td>\n",
              "      <td>979.95</td>\n",
              "      <td>979.77</td>\n",
              "      <td>1242934</td>\n",
              "      <td>1.217784e+09</td>\n",
              "      <td>10864</td>\n",
              "      <td>884988</td>\n",
              "      <td>71.20</td>\n",
              "    </tr>\n",
              "    <tr>\n",
              "      <th>2019-05-08</th>\n",
              "      <td>MINDTREE</td>\n",
              "      <td>EQ</td>\n",
              "      <td>979.95</td>\n",
              "      <td>981.00</td>\n",
              "      <td>985.00</td>\n",
              "      <td>971.05</td>\n",
              "      <td>982.00</td>\n",
              "      <td>980.50</td>\n",
              "      <td>979.84</td>\n",
              "      <td>4301316</td>\n",
              "      <td>4.214603e+09</td>\n",
              "      <td>13038</td>\n",
              "      <td>3851210</td>\n",
              "      <td>89.54</td>\n",
              "    </tr>\n",
              "    <tr>\n",
              "      <th>2019-05-09</th>\n",
              "      <td>MINDTREE</td>\n",
              "      <td>EQ</td>\n",
              "      <td>980.50</td>\n",
              "      <td>979.60</td>\n",
              "      <td>983.15</td>\n",
              "      <td>976.10</td>\n",
              "      <td>980.90</td>\n",
              "      <td>980.45</td>\n",
              "      <td>980.02</td>\n",
              "      <td>3787159</td>\n",
              "      <td>3.711482e+09</td>\n",
              "      <td>8159</td>\n",
              "      <td>3479880</td>\n",
              "      <td>91.89</td>\n",
              "    </tr>\n",
              "    <tr>\n",
              "      <th>2019-05-10</th>\n",
              "      <td>MINDTREE</td>\n",
              "      <td>EQ</td>\n",
              "      <td>980.45</td>\n",
              "      <td>980.40</td>\n",
              "      <td>982.90</td>\n",
              "      <td>973.00</td>\n",
              "      <td>974.00</td>\n",
              "      <td>975.35</td>\n",
              "      <td>977.55</td>\n",
              "      <td>215170</td>\n",
              "      <td>2.103396e+08</td>\n",
              "      <td>5128</td>\n",
              "      <td>26734</td>\n",
              "      <td>12.42</td>\n",
              "    </tr>\n",
              "    <tr>\n",
              "      <th>2019-05-13</th>\n",
              "      <td>MINDTREE</td>\n",
              "      <td>EQ</td>\n",
              "      <td>975.35</td>\n",
              "      <td>973.40</td>\n",
              "      <td>983.00</td>\n",
              "      <td>970.30</td>\n",
              "      <td>981.00</td>\n",
              "      <td>979.10</td>\n",
              "      <td>980.16</td>\n",
              "      <td>485941</td>\n",
              "      <td>4.762997e+08</td>\n",
              "      <td>14005</td>\n",
              "      <td>222691</td>\n",
              "      <td>45.83</td>\n",
              "    </tr>\n",
              "  </tbody>\n",
              "</table>\n",
              "<p>494 rows × 14 columns</p>\n",
              "</div>"
            ],
            "text/plain": [
              "              Symbol Series  ...  Deliverable Qty  % Dly Qt to Traded Qty\n",
              "Date                         ...                                         \n",
              "2017-05-15  MINDTREE     EQ  ...           100362                   36.90\n",
              "2017-05-16  MINDTREE     EQ  ...            82090                   39.65\n",
              "2017-05-17  MINDTREE     EQ  ...           150098                   38.35\n",
              "2017-05-18  MINDTREE     EQ  ...           170919                   20.05\n",
              "2017-05-19  MINDTREE     EQ  ...            57853                   16.42\n",
              "...              ...    ...  ...              ...                     ...\n",
              "2019-05-07  MINDTREE     EQ  ...           884988                   71.20\n",
              "2019-05-08  MINDTREE     EQ  ...          3851210                   89.54\n",
              "2019-05-09  MINDTREE     EQ  ...          3479880                   91.89\n",
              "2019-05-10  MINDTREE     EQ  ...            26734                   12.42\n",
              "2019-05-13  MINDTREE     EQ  ...           222691                   45.83\n",
              "\n",
              "[494 rows x 14 columns]"
            ]
          },
          "metadata": {
            "tags": []
          },
          "execution_count": 23
        }
      ]
    },
    {
      "cell_type": "code",
      "metadata": {
        "id": "jCOTdUks-kSB",
        "colab_type": "code",
        "colab": {
          "base_uri": "https://localhost:8080/",
          "height": 428
        },
        "outputId": "7056dfdc-079b-42a4-e3f3-ba08e9f860d4"
      },
      "source": [
        "df_nifty"
      ],
      "execution_count": null,
      "outputs": [
        {
          "output_type": "execute_result",
          "data": {
            "text/html": [
              "<div>\n",
              "<style scoped>\n",
              "    .dataframe tbody tr th:only-of-type {\n",
              "        vertical-align: middle;\n",
              "    }\n",
              "\n",
              "    .dataframe tbody tr th {\n",
              "        vertical-align: top;\n",
              "    }\n",
              "\n",
              "    .dataframe thead th {\n",
              "        text-align: right;\n",
              "    }\n",
              "</style>\n",
              "<table border=\"1\" class=\"dataframe\">\n",
              "  <thead>\n",
              "    <tr style=\"text-align: right;\">\n",
              "      <th></th>\n",
              "      <th>Open</th>\n",
              "      <th>High</th>\n",
              "      <th>Low</th>\n",
              "      <th>Close</th>\n",
              "      <th>Shares Traded</th>\n",
              "      <th>Turnover (Rs. Cr)</th>\n",
              "    </tr>\n",
              "    <tr>\n",
              "      <th>Date</th>\n",
              "      <th></th>\n",
              "      <th></th>\n",
              "      <th></th>\n",
              "      <th></th>\n",
              "      <th></th>\n",
              "      <th></th>\n",
              "    </tr>\n",
              "  </thead>\n",
              "  <tbody>\n",
              "    <tr>\n",
              "      <th>2017-05-15</th>\n",
              "      <td>9433.55</td>\n",
              "      <td>9449.25</td>\n",
              "      <td>9423.10</td>\n",
              "      <td>9445.40</td>\n",
              "      <td>145163953</td>\n",
              "      <td>7790.97</td>\n",
              "    </tr>\n",
              "    <tr>\n",
              "      <th>2017-05-16</th>\n",
              "      <td>9461.00</td>\n",
              "      <td>9517.20</td>\n",
              "      <td>9456.35</td>\n",
              "      <td>9512.25</td>\n",
              "      <td>171709433</td>\n",
              "      <td>9209.89</td>\n",
              "    </tr>\n",
              "    <tr>\n",
              "      <th>2017-05-17</th>\n",
              "      <td>9517.60</td>\n",
              "      <td>9532.60</td>\n",
              "      <td>9486.10</td>\n",
              "      <td>9525.75</td>\n",
              "      <td>211856040</td>\n",
              "      <td>10726.23</td>\n",
              "    </tr>\n",
              "    <tr>\n",
              "      <th>2017-05-18</th>\n",
              "      <td>9453.20</td>\n",
              "      <td>9489.10</td>\n",
              "      <td>9418.10</td>\n",
              "      <td>9429.45</td>\n",
              "      <td>199340647</td>\n",
              "      <td>10782.46</td>\n",
              "    </tr>\n",
              "    <tr>\n",
              "      <th>2017-05-19</th>\n",
              "      <td>9469.90</td>\n",
              "      <td>9505.75</td>\n",
              "      <td>9390.75</td>\n",
              "      <td>9427.90</td>\n",
              "      <td>259861396</td>\n",
              "      <td>11544.77</td>\n",
              "    </tr>\n",
              "    <tr>\n",
              "      <th>...</th>\n",
              "      <td>...</td>\n",
              "      <td>...</td>\n",
              "      <td>...</td>\n",
              "      <td>...</td>\n",
              "      <td>...</td>\n",
              "      <td>...</td>\n",
              "    </tr>\n",
              "    <tr>\n",
              "      <th>2019-05-07</th>\n",
              "      <td>11651.50</td>\n",
              "      <td>11657.05</td>\n",
              "      <td>11484.45</td>\n",
              "      <td>11497.90</td>\n",
              "      <td>337495624</td>\n",
              "      <td>16632.84</td>\n",
              "    </tr>\n",
              "    <tr>\n",
              "      <th>2019-05-08</th>\n",
              "      <td>11478.70</td>\n",
              "      <td>11479.10</td>\n",
              "      <td>11346.95</td>\n",
              "      <td>11359.45</td>\n",
              "      <td>372826025</td>\n",
              "      <td>17440.01</td>\n",
              "    </tr>\n",
              "    <tr>\n",
              "      <th>2019-05-09</th>\n",
              "      <td>11322.40</td>\n",
              "      <td>11357.60</td>\n",
              "      <td>11255.05</td>\n",
              "      <td>11301.80</td>\n",
              "      <td>373028059</td>\n",
              "      <td>17602.86</td>\n",
              "    </tr>\n",
              "    <tr>\n",
              "      <th>2019-05-10</th>\n",
              "      <td>11314.15</td>\n",
              "      <td>11345.80</td>\n",
              "      <td>11251.05</td>\n",
              "      <td>11278.90</td>\n",
              "      <td>387323416</td>\n",
              "      <td>18085.19</td>\n",
              "    </tr>\n",
              "    <tr>\n",
              "      <th>2019-05-13</th>\n",
              "      <td>11258.70</td>\n",
              "      <td>11300.20</td>\n",
              "      <td>11125.60</td>\n",
              "      <td>11148.20</td>\n",
              "      <td>357586433</td>\n",
              "      <td>16722.91</td>\n",
              "    </tr>\n",
              "  </tbody>\n",
              "</table>\n",
              "<p>494 rows × 6 columns</p>\n",
              "</div>"
            ],
            "text/plain": [
              "                Open      High  ...  Shares Traded  Turnover (Rs. Cr)\n",
              "Date                            ...                                  \n",
              "2017-05-15   9433.55   9449.25  ...      145163953            7790.97\n",
              "2017-05-16   9461.00   9517.20  ...      171709433            9209.89\n",
              "2017-05-17   9517.60   9532.60  ...      211856040           10726.23\n",
              "2017-05-18   9453.20   9489.10  ...      199340647           10782.46\n",
              "2017-05-19   9469.90   9505.75  ...      259861396           11544.77\n",
              "...              ...       ...  ...            ...                ...\n",
              "2019-05-07  11651.50  11657.05  ...      337495624           16632.84\n",
              "2019-05-08  11478.70  11479.10  ...      372826025           17440.01\n",
              "2019-05-09  11322.40  11357.60  ...      373028059           17602.86\n",
              "2019-05-10  11314.15  11345.80  ...      387323416           18085.19\n",
              "2019-05-13  11258.70  11300.20  ...      357586433           16722.91\n",
              "\n",
              "[494 rows x 6 columns]"
            ]
          },
          "metadata": {
            "tags": []
          },
          "execution_count": 24
        }
      ]
    },
    {
      "cell_type": "markdown",
      "metadata": {
        "id": "IlVdlxTuDfp3",
        "colab_type": "text"
      },
      "source": [
        "###### Dailty Beta"
      ]
    },
    {
      "cell_type": "code",
      "metadata": {
        "id": "Czz4OBe9DZ-x",
        "colab_type": "code",
        "colab": {
          "base_uri": "https://localhost:8080/",
          "height": 35
        },
        "outputId": "ff662a6d-e4f1-4b84-f40f-b99097911fa7"
      },
      "source": [
        "index = df_nifty[\"Open\"].where(df.index == df_nifty.index)\n",
        "inedexReturn = (index.pct_change()*100).dropna().values.reshape(-1, 1)\n",
        "\n",
        "stock = df[\"Open Price\"].where(df.index == df_nifty.index)\n",
        "stockReturn = (stock.pct_change()*100).dropna().values.reshape(-1, 1)\n",
        "\n",
        "regression_beta_d = LinearRegression().fit(inedexReturn[len(inedexReturn)-60:].reshape(-1, 1), stockReturn[len(stockReturn)-60:].reshape(-1, 1))\n",
        "print(\"3 Month's Daily Beta = \", regression_beta_d.coef_.tolist())"
      ],
      "execution_count": null,
      "outputs": [
        {
          "output_type": "stream",
          "text": [
            "3 Month's Daily Beta =  [[0.2852748862290394]]\n"
          ],
          "name": "stdout"
        }
      ]
    },
    {
      "cell_type": "markdown",
      "metadata": {
        "id": "DwmkjU1hJ-LL",
        "colab_type": "text"
      },
      "source": [
        "###### Monthly Beta"
      ]
    },
    {
      "cell_type": "code",
      "metadata": {
        "id": "5C7EGgyNXJe9",
        "colab_type": "code",
        "colab": {
          "base_uri": "https://localhost:8080/",
          "height": 35
        },
        "outputId": "c66e0b03-6be5-4093-bfa5-f7b38ef9bdab"
      },
      "source": [
        "# capturing last month's index and stock\n",
        "\n",
        "index_m_last = index.loc[index.groupby(index.index.to_period('M')).apply(lambda x : x.index.max())]\n",
        "indexReturn_m_last = (index_m_last.pct_change()*100).dropna().values.reshape(-1, 1)\n",
        "\n",
        "stock_m_last = stock.loc[stock.groupby(stock.index.to_period('M')).apply(lambda x : x.index.max())]\n",
        "stockReturn_m_last = (stock_m_last.pct_change()*100).dropna().values.reshape(-1, 1)\n",
        "\n",
        "regression_beta_m = LinearRegression().fit(indexReturn_m_last, stockReturn_m_last)\n",
        "print(\"Monthly Beta = \", regression_beta_m.coef_.tolist())"
      ],
      "execution_count": null,
      "outputs": [
        {
          "output_type": "stream",
          "text": [
            "Monthly Beta =  [[1.3399222274052873]]\n"
          ],
          "name": "stdout"
        }
      ]
    },
    {
      "cell_type": "markdown",
      "metadata": {
        "id": "o97_dOdGMDXH",
        "colab_type": "text"
      },
      "source": [
        "###### Using Covariance"
      ]
    },
    {
      "cell_type": "code",
      "metadata": {
        "id": "WUi4tasYIlkk",
        "colab_type": "code",
        "colab": {
          "base_uri": "https://localhost:8080/",
          "height": 35
        },
        "outputId": "9c3fc2c4-0ae0-4ead-deb2-8fda527af814"
      },
      "source": [
        "monthly_covMat = np.cov(indexReturn_m_last.reshape(1, -1), stockReturn_m_last.reshape(1, -1))\n",
        "print('Monthly Beta : ', monthly_covMat[0][1]/monthly_covMat[0][0])"
      ],
      "execution_count": null,
      "outputs": [
        {
          "output_type": "stream",
          "text": [
            "Monthly Beta :  1.3399222274052878\n"
          ],
          "name": "stdout"
        }
      ]
    },
    {
      "cell_type": "markdown",
      "metadata": {
        "id": "IWueWUZ0M6zN",
        "colab_type": "text"
      },
      "source": [
        "# Discussion:\n",
        "\n",
        "*   Daily Beta of MINDTREE for last 3 months (~0.285) is less than 1 showing it is less volatile than the benchmark. And the postive value of the Beta implies that the rise in market increses the stock price. \n",
        "*   Monthly Beta of MINDTREE for last month (~1.34) is greater than 1 showing it is volatile than the benchmark. And the postive value of the Beta implies that the rise in market increses the stock price.\n",
        "*   There are no negative values for beta in this case, which means the inverse cases of market vs stock price variation does not occur.\n",
        "*   We also compared the monthly Beta value from regression and covariance and they both came out to be exact same. \n",
        "\n",
        "\n",
        "\n",
        "\n",
        "\n"
      ]
    }
  ]
}